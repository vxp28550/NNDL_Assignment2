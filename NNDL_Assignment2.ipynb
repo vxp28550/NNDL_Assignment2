{
  "nbformat": 4,
  "nbformat_minor": 0,
  "metadata": {
    "colab": {
      "provenance": []
    },
    "kernelspec": {
      "name": "python3",
      "display_name": "Python 3"
    },
    "language_info": {
      "name": "python"
    }
  },
  "cells": [
    {
      "cell_type": "code",
      "execution_count": 27,
      "metadata": {
        "id": "VWHOfLLircKK",
        "colab": {
          "base_uri": "https://localhost:8080/"
        },
        "outputId": "c47bb38f-3aec-4989-a268-06b18ebd55a5"
      },
      "outputs": [
        {
          "output_type": "stream",
          "name": "stdout",
          "text": [
            "good \n",
            "evening\n",
            "good evening\n",
            "goeeig\n"
          ]
        }
      ],
      "source": [
        "def fullname(x,y):\n",
        "  return x+y\n",
        "def string_alternative(s):\n",
        "  o=s[::2]\n",
        "  return o\n",
        "first_name=input()\n",
        "last_name=input()\n",
        "z=fullname(first_name,last_name)\n",
        "print(z)\n",
        "print(string_alternative(full_name))"
      ]
    },
    {
      "cell_type": "code",
      "source": [
        "f=open(\"./sample_data/input.txt\",\"r\")\n",
        "d=dict()\n",
        "for x in f:\n",
        "  for i in x.strip(\"\\n\").split(\" \"):\n",
        "    if i in d.keys():\n",
        "      d[i]+=1\n",
        "    else:\n",
        "      d[i]=1\n",
        "f.close()\n",
        "print(\"Word count\")\n",
        "f1=open(\"./sample_data/output.txt\",\"w\")\n",
        "for i in d.keys():\n",
        "  f1.write(i+\":\"+str(d[i])+\"\\n\")\n",
        "  print(i+\":\"+str(d[i]))\n",
        "f1.close()"
      ],
      "metadata": {
        "colab": {
          "base_uri": "https://localhost:8080/"
        },
        "id": "ToshXjsstzbS",
        "outputId": "aef9dc3a-5236-421d-c277-127203732d09"
      },
      "execution_count": 30,
      "outputs": [
        {
          "output_type": "stream",
          "name": "stdout",
          "text": [
            "Word count\n",
            "Python:1\n",
            "course:2\n",
            "Deep:1\n",
            "learning:1\n"
          ]
        }
      ]
    },
    {
      "cell_type": "code",
      "source": [
        "l1=[]\n",
        "n=int(input())\n",
        "for i in range(n):\n",
        "  l1.append(int(input()))\n",
        "op=[i/2.54 for i in l1]\n",
        "print(op)\n"
      ],
      "metadata": {
        "colab": {
          "base_uri": "https://localhost:8080/"
        },
        "id": "2YRm78Zxt7j-",
        "outputId": "b7c05787-9992-403a-a738-e9fbd01b72d6"
      },
      "execution_count": 22,
      "outputs": [
        {
          "output_type": "stream",
          "name": "stdout",
          "text": [
            "4\n",
            "150\n",
            "155\n",
            "145\n",
            "148\n",
            "[59.05511811023622, 61.023622047244096, 57.08661417322835, 58.26771653543307]\n"
          ]
        }
      ]
    },
    {
      "cell_type": "code",
      "source": [
        "11150\n",
        "1"
      ],
      "metadata": {
        "id": "-x-N5mD3yZ9x"
      },
      "execution_count": null,
      "outputs": []
    }
  ]
}